{
 "cells": [
  {
   "cell_type": "markdown",
   "metadata": {},
   "source": [
    "Q 1: Take any data from the internet and form a supervised machine learning problem around it.\n",
    "\n",
    "Ans Supervised learning is the machine learning task of learning a function that maps an input to an output based on example input-output pairs.\n",
    "I have taken the  Rain in Australia data set downloaded from the Kaggle website.In this dataset, I have 23 independent variables like Location , MinTemp , MaxTemp so on and one dependent variable RainTomorrow. It is a type of supervised learning problem because I have multiple inputs and corresponding to that there is one output i.e RainTomorrow\n",
    "My aim is to predict whether or not it will rain tomorrow in Australia.\n"
   ]
  },
  {
   "cell_type": "markdown",
   "metadata": {},
   "source": [
    "Q2 What is the difference between a dataframe and a series? What are the different types of datatypes present in Pandas?\n",
    "\n",
    "Ans Pandas Series is a one-dimensional labeled array capable of holding data of any type (integer, string, float, python objects, etc.).\n",
    " x = pd.Series([6,3,4,6])\n",
    " \n",
    "A DataFrame is a two dimensional object that can have columns with potential different types. Different kind of inputs include dictionaries, lists, series, and even another DataFrame.\n",
    "\n",
    "#creating a dataframe from list\n",
    "import pandas as pd\n",
    "data = [1,2,3,4,5]\n",
    "df = pd.DataFrame(data)\n",
    "print df\n",
    "\n",
    "The main types stored in pandas objects are float, int, bool, datetime64, timedelta, and object"
   ]
  },
  {
   "cell_type": "markdown",
   "metadata": {},
   "source": [
    "Q3 Explain all the metrics which I have written codes about. For example, explain what did you infer from the code df.describe()?\n",
    "\n",
    "Ans df. shape get the number of rows and columns in a dataset.\n",
    "\n",
    "df.info function is used to get a concise summary of the dataframe and info about non-null entries in all columns.\n",
    "\n",
    "df.describe is used to view some basic statistical details like percentile, mean, std etc. of a data frame or a series of numeric values."
   ]
  }
 ],
 "metadata": {
  "kernelspec": {
   "display_name": "Python 3",
   "language": "python",
   "name": "python3"
  },
  "language_info": {
   "codemirror_mode": {
    "name": "ipython",
    "version": 3
   },
   "file_extension": ".py",
   "mimetype": "text/x-python",
   "name": "python",
   "nbconvert_exporter": "python",
   "pygments_lexer": "ipython3",
   "version": "3.7.4"
  }
 },
 "nbformat": 4,
 "nbformat_minor": 4
}
